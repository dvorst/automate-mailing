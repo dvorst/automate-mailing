{
 "cells": [
  {
   "cell_type": "markdown",
   "metadata": {},
   "source": [
    "# Laad Excel"
   ]
  },
  {
   "cell_type": "code",
   "execution_count": null,
   "metadata": {},
   "outputs": [],
   "source": [
    "import pandas as pd\n",
    "\n",
    "excel_file = \"email-list.xlsx\"\n",
    "\n",
    "df = pd.read_excel(excel_file)\n",
    "df"
   ]
  },
  {
   "cell_type": "markdown",
   "metadata": {},
   "source": [
    "# Creeer word bestanden vanuit template"
   ]
  },
  {
   "cell_type": "code",
   "execution_count": null,
   "metadata": {},
   "outputs": [],
   "source": [
    "from docx import Document\n",
    "\n",
    "def replace_text_in_docx(docx_file, replacements):\n",
    "    doc = Document(docx_file)\n",
    "    for paragraph in doc.paragraphs:\n",
    "        for key, value in replacements.items():\n",
    "            if key in paragraph.text:\n",
    "                paragraph.text = paragraph.text.replace(key, value)\n",
    "    \n",
    "    for table in doc.tables:\n",
    "        for row in table.rows:\n",
    "            for cell in row.cells:\n",
    "                for paragraph in cell.paragraphs:\n",
    "                    for key, value in replacements.items():\n",
    "                        if key in paragraph.text:\n",
    "                            paragraph.text = paragraph.text.replace(key, value)\n",
    "    \n",
    "    return doc\n",
    "\n",
    "from pathlib import Path\n",
    "input_docx_file = \"brief-template.docx\"\n",
    "for idx, row in df.iterrows():\n",
    "    output_docx_file = f\"out/word/brief-{idx}.docx\"\n",
    "    Path(output_docx_file).parent.mkdir(parents=True, exist_ok=True)\n",
    "\n",
    "\n",
    "    replacements = {'{name}': row.naam}\n",
    "\n",
    "    doc = replace_text_in_docx(input_docx_file, replacements)\n",
    "    doc.save(output_docx_file)\n",
    "\n",
    "    print(f\"'{output_docx_file}'\")\n"
   ]
  },
  {
   "cell_type": "markdown",
   "metadata": {},
   "source": [
    "# Converteer Word naar PDF"
   ]
  },
  {
   "cell_type": "code",
   "execution_count": null,
   "metadata": {},
   "outputs": [],
   "source": [
    "# brew install libreoffice\n",
    "\n",
    "import os\n",
    "import subprocess\n",
    "\n",
    "input_dir = \"out/word/\"\n",
    "output_dir = \"out/pdf/\"\n",
    "\n",
    "\n",
    "def convert_to_pdf(input_file, output_dir):\n",
    "    try:\n",
    "        # /opt/homebrew/bin/soffice --headless --convert-to pdf --outdir {output_dir} {input_file}\n",
    "        subprocess.run(\n",
    "            [\n",
    "                \"soffice\",\n",
    "                \"--convert-to\",\n",
    "                \"pdf\",\n",
    "                input_file,\n",
    "                \"--outdir\",\n",
    "                output_dir,\n",
    "            ],\n",
    "            check=True,\n",
    "        )\n",
    "        print(\"Conversion successful for:\", input_file)\n",
    "    except subprocess.CalledProcessError as e:\n",
    "        print(\"Conversion failed for:\", input_file, e)\n",
    "\n",
    "\n",
    "Path(output_dir).mkdir(parents=True, exist_ok=True)\n",
    "\n",
    "# List all files in the input directory\n",
    "pths = [str(p) for p in Path(input_dir).glob(\"*.docx\")]\n",
    "\n",
    "# Iterate over each file and convert it to PDF\n",
    "for pth in pths:\n",
    "    print(pth)\n",
    "    convert_to_pdf(pth, output_dir)"
   ]
  },
  {
   "cell_type": "markdown",
   "metadata": {},
   "source": [
    "# E-mail PDF bestanden"
   ]
  },
  {
   "cell_type": "code",
   "execution_count": null,
   "metadata": {},
   "outputs": [],
   "source": []
  }
 ],
 "metadata": {
  "kernelspec": {
   "display_name": ".venv",
   "language": "python",
   "name": "python3"
  },
  "language_info": {
   "codemirror_mode": {
    "name": "ipython",
    "version": 3
   },
   "file_extension": ".py",
   "mimetype": "text/x-python",
   "name": "python",
   "nbconvert_exporter": "python",
   "pygments_lexer": "ipython3",
   "version": "3.12.1"
  }
 },
 "nbformat": 4,
 "nbformat_minor": 2
}
